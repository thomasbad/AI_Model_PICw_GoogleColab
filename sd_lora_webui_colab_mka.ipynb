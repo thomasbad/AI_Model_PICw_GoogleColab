{
  "nbformat": 4,
  "nbformat_minor": 0,
  "metadata": {
    "colab": {
      "provenance": [],
      "collapsed_sections": [
        "UJ0vs3qiRrzE"
      ],
      "include_colab_link": true
    },
    "kernelspec": {
      "name": "python3",
      "display_name": "Python 3"
    },
    "language_info": {
      "name": "python"
    },
    "accelerator": "GPU",
    "gpuClass": "standard"
  },
  "cells": [
    {
      "cell_type": "markdown",
      "metadata": {
        "id": "view-in-github",
        "colab_type": "text"
      },
      "source": [
        "<a href=\"https://colab.research.google.com/github/thomasbad/AI_Model_PICw_GoogleColab/blob/main/sd_lora_webui_colab_mka.ipynb\" target=\"_parent\"><img src=\"https://colab.research.google.com/assets/colab-badge.svg\" alt=\"Open In Colab\"/></a>"
      ]
    },
    {
      "cell_type": "markdown",
      "metadata": {
        "id": "A6OFCYOzNjDX"
      },
      "source": [
        "# SD+LoRA WebUI Colab MKA NSFW Edition\n",
        "\n",
        "### How to Use\n",
        "\n",
        "1. Go to **Setup model** and **Advanced Model** to do the customization\n",
        "2. On the tool bar, go to \"Runtime\" > \"Change runtime type\", and change it to GPU\n",
        "3. Select \"Runtime\" > \"Run all\"\n",
        "4. Go to **Startup WebUI** and click public URL to do your stuff\n",
        "\n",
        "(P.S. This thing will use your Google Drive storage to store the downloaded model for use, ensure you have enough space to store them, and remove them if you don't want them take up your space)\n",
        "\n",
        "### Reference\n",
        "https://github.com/ddPn08/automatic1111-colab"
      ]
    },
    {
      "cell_type": "markdown",
      "metadata": {
        "id": "TE45Pqn_N81E"
      },
      "source": [
        "## 1 - Pre-configuration"
      ]
    },
    {
      "cell_type": "code",
      "execution_count": null,
      "metadata": {
        "id": "yzdbQDudNZ6j",
        "cellView": "form",
        "colab": {
          "base_uri": "https://localhost:8080/"
        },
        "outputId": "f0845293-5456-4199-dd88-dac61f894718"
      },
      "outputs": [
        {
          "output_type": "stream",
          "name": "stdout",
          "text": [
            "/content\n",
            "fatal: destination path 'stable-diffusion-webui' already exists and is not an empty directory.\n",
            "/content/stable-diffusion-webui\n",
            "D\tembeddings/Place Textual Inversion embeddings here.txt\n",
            "D\tmodels/Stable-diffusion/Put Stable Diffusion checkpoints here.txt\n",
            "D\tmodels/VAE/Put VAE here.txt\n",
            "Already on 'master'\n",
            "Your branch is up to date with 'origin/master'.\n"
          ]
        }
      ],
      "source": [
        "# @title 1.1 Download stable-diffusion-webui\n",
        "%cd /content/\n",
        "repository_url = \"https://github.com/AUTOMATIC1111/stable-diffusion-webui\"  # @param {type: \"string\"}\n",
        "webui_branch = \"master\"  # @param {type: \"string\"}\n",
        "\n",
        "! git clone {repository_url}\n",
        "%cd /content/stable-diffusion-webui\n",
        "! git checkout {webui_branch}"
      ]
    },
    {
      "cell_type": "code",
      "execution_count": null,
      "metadata": {
        "id": "Mls4_48XOrTd",
        "cellView": "form",
        "colab": {
          "base_uri": "https://localhost:8080/"
        },
        "outputId": "e9fa75a1-d72a-4e60-e316-d46777d8a95a"
      },
      "outputs": [
        {
          "output_type": "stream",
          "name": "stdout",
          "text": [
            "/content\n",
            "Mounted at /content/drive\n"
          ]
        }
      ],
      "source": [
        "# @title 1.2 Create Cloud folder\n",
        "%cd /content\n",
        "# @markdown Cloud folder name\n",
        "data_dir_name = \"Stable_Diffusion_WebUI_Colab\"  # @param {type:\"string\"}\n",
        "data_dir = f\"/content/drive/MyDrive/{data_dir_name}\"\n",
        "\n",
        "import os\n",
        "\n",
        "drive_path = \"/content/drive\"\n",
        "from google.colab import drive\n",
        "\n",
        "try:\n",
        "    drive.mount(drive_path, force_remount=True)\n",
        "    os.makedirs(data_dir, exist_ok=True)\n",
        "except:\n",
        "    print('Mount Error')\n",
        "    raise\n",
        "\n",
        "if os.path.exists(f\"{data_dir}/script.pre.sh\"):\n",
        "    ! chmod +x {data_dir}/script.pre.sh\n",
        "    ! {data_dir}/script.pre.sh\n",
        "\n",
        "models_path = f\"{data_dir}/models\"\n",
        "output_path = f\"{data_dir}/outputs\"\n",
        "config_path = f\"{data_dir}/config\"\n",
        "scripts_path = f\"{data_dir}/scripts\"\n",
        "extensions_file_path = f\"{data_dir}/extensions.txt\"\n",
        "\n",
        "os.makedirs(models_path, exist_ok=True)\n",
        "os.makedirs(output_path, exist_ok=True)\n",
        "os.makedirs(config_path, exist_ok=True)\n",
        "os.makedirs(scripts_path, exist_ok=True)\n",
        "os.makedirs(f\"{models_path}/Stable-diffusion\", exist_ok=True)\n",
        "os.makedirs(f\"{models_path}/VAE\", exist_ok=True)\n",
        "os.makedirs(f\"{models_path}/embeddings\", exist_ok=True)\n",
        "os.makedirs(f\"{models_path}/hypernetworks\", exist_ok=True)\n",
        "os.makedirs(f\"{models_path}/Lora\", exist_ok=True)\n",
        "\n",
        "for script in os.listdir(scripts_path):\n",
        "    ! rm -Rf stable-diffusion-webui/scripts/{script} && ln -s {scripts_path}/{script} stable-diffusion-webui/scripts/{script}\n",
        "\n",
        "for dir in os.listdir(models_path):\n",
        "    if dir == \"embeddings\":\n",
        "        ! rm -Rf stable-diffusion-webui/embeddings && ln -s {models_path}/embeddings stable-diffusion-webui/embeddings\n",
        "    else:\n",
        "        ! rm -Rf stable-diffusion-webui/models/{dir} && ln -s {models_path}/{dir} stable-diffusion-webui/models/{dir}\n",
        "\n",
        "! rm -Rf stable-diffusion-webui/outputs && ln -s {data_dir}/outputs stable-diffusion-webui/outputs\n",
        "\n",
        "for filename in [\"config.json\", \"ui-config.json\", \"styles.csv\", \"artists.csv\"]:\n",
        "    ! rm -f stable-diffusion-webui/{filename}\n",
        "    filepath = f\"{config_path}/{filename}\"\n",
        "    if not os.path.exists(filepath):\n",
        "        if filename.endswith(\".json\"):\n",
        "            with open(filepath, mode=\"w\") as f:\n",
        "                f.write(\"{}\")\n",
        "        else:\n",
        "            ! touch {config_path}/{filename}\n",
        "    if filename == \"styles.csv\":\n",
        "        ! cp {config_path}/styles.csv stable-diffusion-webui/styles.csv\n",
        "    else:\n",
        "        ! ln -s {config_path}/{filename} stable-diffusion-webui/{filename}"
      ]
    },
    {
      "cell_type": "markdown",
      "metadata": {
        "id": "FAgnQMjoSK1b"
      },
      "source": [
        "## 2 - Setup model"
      ]
    },
    {
      "cell_type": "code",
      "source": [
        "# @title 2.1 Setup SD Model\n",
        "# @markdown Do you need to download the SD model AIO package?\n",
        "need_to_download_sd = True # @param {type:\"boolean\"}\n",
        "# @markdown Select the SD model AIO package for use :\n",
        "model_package = \"ChilloutMix\" # @param [\"AnythingV3\", \"AnythingV4.5\", \"AbyssOrangeMix2_sfw\", \"AbyssOrangeMix3\", \"ChilloutMix\", \"Others(Input below)\"] \n",
        "# @markdown URL of other SD model :\n",
        "sd_url = \"\" #@param {type:\"string\"}\n",
        "vae_url = \"\" #@param {type:\"string\"}\n",
        "# @markdown ---\n",
        "# @markdown - The pictures' colors will be more mich after VAE is enabled with:<br>\n",
        "# @markdown  - WebUI > Settings > Stable Diffusion > SD VAE Setting<br>\n",
        "# @markdown  - Remember to click \"Apply settings\" for change\n",
        "\n",
        "sd_urls = []\n",
        "vae_urls = []\n",
        "if model_package == \"AnythingV3\":\n",
        "    sd_urls.append(\"https://huggingface.co/Linaqruf/anything-v3.0/resolve/main/anything-v3-fp32-pruned.safetensors\")\n",
        "    vae_urls.append(\"https://huggingface.co/WuLing/my_vae/resolve/main/Anything-V3.0.vae.pt\")\n",
        "elif model_package == \"AnythingV4.5\":\n",
        "    sd_urls.append(\"https://huggingface.co/andite/anything-v4.0/resolve/main/anything-v4.5-pruned.safetensors\")\n",
        "    vae_urls.append(\"https://huggingface.co/andite/anything-v4.0/resolve/main/anything-v4.0.vae.pt\")\n",
        "elif model_package == \"AbyssOrangeMix2_sfw\":\n",
        "    sd_urls.append(\"https://huggingface.co/WarriorMama777/OrangeMixs/resolve/main/Models/AbyssOrangeMix2/AbyssOrangeMix2_sfw.safetensors\")\n",
        "    vae_urls.append(\"https://huggingface.co/WarriorMama777/OrangeMixs/resolve/main/VAEs/orangemix.vae.pt\")\n",
        "elif model_package == \"AbyssOrangeMix3\":\n",
        "    sd_urls.append(\"https://huggingface.co/WarriorMama777/OrangeMixs/resolve/main/Models/AbyssOrangeMix3/AOM3.safetensors\")\n",
        "    vae_urls.append(\"https://huggingface.co/WarriorMama777/OrangeMixs/resolve/main/VAEs/orangemix.vae.pt\")\n",
        "elif model_package == \"ChilloutMix\":\n",
        "    sd_urls.append(\"https://huggingface.co/AnonPerson/ChilloutMix/resolve/main/ChilloutMix-ni-fp16.safetensors\")\n",
        "    vae_urls.append(\"https://huggingface.co/AnonPerson/ChilloutMix/resolve/main/ChilloutMix-ni-fp16.safetensors\")\n",
        "elif model_package == \"Others(Input below)\":\n",
        "    sd_urls.append(sd_url)\n",
        "    vae_urls.append(vae_url)\n",
        "\n",
        "if sd_urls != [] and need_to_download_sd == True:\n",
        "    %cd {models_path}/Stable-diffusion\n",
        "    for sd_url in sd_urls:\n",
        "        if sd_url != \"\":\n",
        "            ! wget -nc --content-disposition {sd_url}\n",
        "\n",
        "if vae_urls != [] and need_to_download_sd == True:\n",
        "    %cd {models_path}/VAE\n",
        "    for vae_url in vae_urls:\n",
        "        if vae_url != \"\":  \n",
        "            ! wget -nc --content-disposition {vae_url}"
      ],
      "metadata": {
        "id": "y5vFhu-WcDgQ",
        "cellView": "form",
        "colab": {
          "base_uri": "https://localhost:8080/"
        },
        "outputId": "a9fe270d-dbbc-47ed-8580-952d058f2ac8"
      },
      "execution_count": null,
      "outputs": [
        {
          "output_type": "stream",
          "name": "stdout",
          "text": [
            "/content/drive/MyDrive/Stable_Diffusion_WebUI_Colab/models/Stable-diffusion\n",
            "--2023-03-10 04:33:44--  https://huggingface.co/WuLing/Chilloutmix_package/resolve/main/chilloutmix_NiPrunedFp32.safetensors\n",
            "Resolving huggingface.co (huggingface.co)... 3.231.67.228, 54.235.118.239, 2600:1f18:147f:e850:e203:c458:10cd:fc3c, ...\n",
            "Connecting to huggingface.co (huggingface.co)|3.231.67.228|:443... connected.\n",
            "HTTP request sent, awaiting response... 401 Unauthorized\n",
            "\n",
            "Username/Password Authentication Failed.\n",
            "/content/drive/MyDrive/Stable_Diffusion_WebUI_Colab/models/VAE\n",
            "--2023-03-10 04:33:45--  https://huggingface.co/WuLing/Chilloutmix_package/resolve/main/vae-ft-mse-840000-ema-pruned.safetensors\n",
            "Resolving huggingface.co (huggingface.co)... 3.231.67.228, 54.235.118.239, 2600:1f18:147f:e850:e203:c458:10cd:fc3c, ...\n",
            "Connecting to huggingface.co (huggingface.co)|3.231.67.228|:443... connected.\n",
            "HTTP request sent, awaiting response... 401 Unauthorized\n",
            "\n",
            "Username/Password Authentication Failed.\n"
          ]
        }
      ]
    },
    {
      "cell_type": "code",
      "source": [
        "# @title 2.2 Setup Embedding + Hypernetwork + LoRA\n",
        "# @markdown Embedding\n",
        "EasyNegative = True # @param {type:\"boolean\"}\n",
        "other_embedding_urls = \"\"  # @param {type:\"string\"}\n",
        "# @markdown ---\n",
        "# @markdown Hypernetwork\n",
        "hypernetwork_urls = \"\"  # @param {type:\"string\"}\n",
        "# @markdown ---\n",
        "# @markdown LoRA\n",
        "korean_doll_likeness = True # @param {type:\"boolean\"}\n",
        "taiwan_doll_likeness = True # @param {type:\"boolean\"}\n",
        "# japanese_doll_likeness = False # @param {type:\"boolean\"} (Temporary take down)\n",
        "UPRM = True # @param {type:\"boolean\"}\n",
        "Deliberate = True # @param {type:\"boolean\"}\n",
        "aEros = True # @param {type:\"boolean\"}\n",
        "HassanBlend = True # @param {type:\"boolean\"}\n",
        "Clarity = True # @param {type:\"boolean\"}\n",
        "breastInClass = True # @param {type:\"boolean\"}\n",
        "POVBJer = True # @param {type:\"boolean\"}\n",
        "Titfuck = True # @param {type:\"boolean\"}\n",
        "lora_urls = \"https://huggingface.co/klx1204/DollLikeness/blob/main/koreanDollLikeness_v15.safetensors,https://huggingface.co/duthanhduoc/chilloutmix-set/resolve/main/koreanDollLikeness_v10.safetensors\"  # @param {type:\"string\"}\n",
        "# @markdown ---\n",
        "# @markdown - [EasyNegative](https://civitai.com/models/7808/easynegative)\n",
        "# @markdown   - common negative promts embedding\n",
        "# @markdown   - Trigger word is \"EasyNegative\", by adding it to the negative prompt\n",
        "# @markdown - doll_likeness series([Korea](https://civitai.com/models/7448/korean-doll-likeness), [Taiwan](https://civitai.com/models/7716/taiwan-doll-likeness), [Japan](https://civitai.com/models/10135/japanese-doll-likeness))\n",
        "# @markdown   - Trigger promt is \"woman\", \"girl\"\n",
        "# @markdown   - Recommand to set the model to 0.5\n",
        "# @markdown - You may add more model to it by insert multiple URL, seperate it with \",\"\n",
        "# @markdown - [Please add the LoRA preview picture on you own, the format is <model name>.png](https://i.imgur.com/XooSV8p.png)\n",
        "\n",
        "embeddings = []\n",
        "other_embedding_urls = list(map(str.strip, other_embedding_urls.split(\",\")))\n",
        "if EasyNegative == True:\n",
        "    embeddings.append(\"https://civitai.com/api/download/models/9208\")\n",
        "if other_embedding_urls != ['']:\n",
        "    embeddings = embeddings + other_embedding_urls\n",
        "\n",
        "if embeddings != []:\n",
        "    %cd {models_path}/embeddings\n",
        "    for embedding in embeddings:\n",
        "        ! wget -nc --content-disposition {embedding}\n",
        "\n",
        "hypernetworks = []\n",
        "hypernetwork_urls = list(map(str.strip, hypernetwork_urls.split(\",\")))\n",
        "if hypernetwork_urls != ['']:\n",
        "    hypernetworks = hypernetworks + hypernetwork_urls\n",
        "\n",
        "if hypernetworks != []:\n",
        "    %cd {models_path}/hypernetworks\n",
        "    for hypernetwork in hypernetworks:\n",
        "        ! wget -nc --content-disposition {hypernetwork}\n",
        "\n",
        "loras = []\n",
        "lora_urls = list(map(str.strip, lora_urls.split(\",\")))\n",
        "if korean_doll_likeness == True:\n",
        "    loras.append(\"https://civitai.com/api/download/models/13739\")\n",
        "if taiwan_doll_likeness == True:\n",
        "    loras.append(\"https://civitai.com/api/download/models/20684\")\n",
        "#if japanese_doll_likeness == True:\n",
        "#    loras.append(\"https://civitai.com/api/download/models/12050\")\n",
        "if UPRM == True:\n",
        "    loras.append(\"https://civitai.com/api/download/models/15640\")\n",
        "if Deliberate == True:\n",
        "    loras.append(\"https://civitai.com/api/download/models/15236\")\n",
        "if aEros == True:\n",
        "    loras.append(\"https://civitai.com/api/download/models/5180\")\n",
        "if HassanBlend == True:\n",
        "    loras.append(\"https://civitai.com/api/download/models/4635\")\n",
        "if Clarity == True:\n",
        "    loras.append(\"https://civitai.com/api/download/models/13128\")\n",
        "if breastInClass == True:\n",
        "    loras.append(\"https://civitai.com/api/download/models/13300\")\n",
        "if POVBJer == True:\n",
        "    loras.append(\"https://civitai.com/api/download/models/10690\")\n",
        "if Titfuck == True:\n",
        "    loras.append(\"https://civitai.com/api/download/models/9042\")  \n",
        "if lora_urls != ['']:\n",
        "    loras = loras + lora_urls\n",
        "\n",
        "if loras != []:\n",
        "    %cd {models_path}/Lora\n",
        "    for lora in loras:\n",
        "        ! wget -nc --content-disposition {lora}"
      ],
      "metadata": {
        "id": "aspo4tgU6-4g",
        "colab": {
          "base_uri": "https://localhost:8080/"
        },
        "outputId": "a36276d0-2da0-4524-caef-2243b7df0a0b",
        "cellView": "form"
      },
      "execution_count": 15,
      "outputs": [
        {
          "output_type": "stream",
          "name": "stdout",
          "text": [
            "/content/drive/MyDrive/Stable_Diffusion_WebUI_Colab/models/embeddings\n",
            "--2023-03-10 04:38:57--  https://civitai.com/api/download/models/9208\n",
            "Resolving civitai.com (civitai.com)... 172.67.214.129, 104.21.86.42, 2606:4700:3037::6815:562a, ...\n",
            "Connecting to civitai.com (civitai.com)|172.67.214.129|:443... connected.\n",
            "HTTP request sent, awaiting response... 403 Forbidden\n",
            "2023-03-10 04:38:57 ERROR 403: Forbidden.\n",
            "\n",
            "/content/drive/MyDrive/Stable_Diffusion_WebUI_Colab/models/Lora\n",
            "--2023-03-10 04:38:57--  https://huggingface.co/klx1204/DollLikeness/blob/main/koreanDollLikeness_v15.safetensors\n",
            "Resolving huggingface.co (huggingface.co)... 3.231.67.228, 54.235.118.239, 2600:1f18:147f:e800:671:b733:ecf3:a585, ...\n",
            "Connecting to huggingface.co (huggingface.co)|3.231.67.228|:443... connected.\n",
            "HTTP request sent, awaiting response... 200 OK\n",
            "--2023-03-10 04:38:58--  https://huggingface.co/duthanhduoc/chilloutmix-set/resolve/main/koreanDollLikeness_v10.safetensors\n",
            "Resolving huggingface.co (huggingface.co)... 3.231.67.228, 54.235.118.239, 2600:1f18:147f:e850:e203:c458:10cd:fc3c, ...\n",
            "Connecting to huggingface.co (huggingface.co)|3.231.67.228|:443... connected.\n",
            "HTTP request sent, awaiting response... 302 Found\n",
            "Location: https://cdn-lfs.huggingface.co/repos/57/00/5700309ca6f9674e5b2c18c20eccb950a8bec04b23fe4da3fc070d8f1102101a/62efe75048d55a096a238c6e8c4e12d61b36bf59e388a90589335f750923954c?response-content-disposition=attachment%3B+filename*%3DUTF-8%27%27koreanDollLikeness_v10.safetensors%3B+filename%3D%22koreanDollLikeness_v10.safetensors%22%3B&Expires=1678680864&Policy=eyJTdGF0ZW1lbnQiOlt7IlJlc291cmNlIjoiaHR0cHM6Ly9jZG4tbGZzLmh1Z2dpbmdmYWNlLmNvL3JlcG9zLzU3LzAwLzU3MDAzMDljYTZmOTY3NGU1YjJjMThjMjBlY2NiOTUwYThiZWMwNGIyM2ZlNGRhM2ZjMDcwZDhmMTEwMjEwMWEvNjJlZmU3NTA0OGQ1NWEwOTZhMjM4YzZlOGM0ZTEyZDYxYjM2YmY1OWUzODhhOTA1ODkzMzVmNzUwOTIzOTU0Yz9yZXNwb25zZS1jb250ZW50LWRpc3Bvc2l0aW9uPSoiLCJDb25kaXRpb24iOnsiRGF0ZUxlc3NUaGFuIjp7IkFXUzpFcG9jaFRpbWUiOjE2Nzg2ODA4NjR9fX1dfQ__&Signature=JAiIzgV07TEU-WDtBcUkBKBtY1e3a5dsjD0SyVJaS5eUWVVRIvwjIyxYe%7E-UWyYRr%7EtDgXvvakbscwSB5wkcUU8fFL6m3Iqq4tmRdB%7EM1UzM0GutfTppanXNjqzY5J-uPHLMWd0kmSdF9ABhCRZNF9E1ByQAPk31EOTjG7ljPJ7DPIVgeUHCOXWrOQxaeotpG6epLykuXmuW8KANIrsJuO8l77uLiqsVsQbIWm9DaU4cDCDze8ztq6HUuVRccxFTe6kpJ7ViCd1PCaCgMdHF-3itdbzZIaX5aILa6fo0Xns1BhaVXw6fl8414oDZz5qhxyKhCXvVN9wy2l42NRBV-g__&Key-Pair-Id=KVTP0A1DKRTAX [following]\n",
            "--2023-03-10 04:38:59--  https://cdn-lfs.huggingface.co/repos/57/00/5700309ca6f9674e5b2c18c20eccb950a8bec04b23fe4da3fc070d8f1102101a/62efe75048d55a096a238c6e8c4e12d61b36bf59e388a90589335f750923954c?response-content-disposition=attachment%3B+filename*%3DUTF-8%27%27koreanDollLikeness_v10.safetensors%3B+filename%3D%22koreanDollLikeness_v10.safetensors%22%3B&Expires=1678680864&Policy=eyJTdGF0ZW1lbnQiOlt7IlJlc291cmNlIjoiaHR0cHM6Ly9jZG4tbGZzLmh1Z2dpbmdmYWNlLmNvL3JlcG9zLzU3LzAwLzU3MDAzMDljYTZmOTY3NGU1YjJjMThjMjBlY2NiOTUwYThiZWMwNGIyM2ZlNGRhM2ZjMDcwZDhmMTEwMjEwMWEvNjJlZmU3NTA0OGQ1NWEwOTZhMjM4YzZlOGM0ZTEyZDYxYjM2YmY1OWUzODhhOTA1ODkzMzVmNzUwOTIzOTU0Yz9yZXNwb25zZS1jb250ZW50LWRpc3Bvc2l0aW9uPSoiLCJDb25kaXRpb24iOnsiRGF0ZUxlc3NUaGFuIjp7IkFXUzpFcG9jaFRpbWUiOjE2Nzg2ODA4NjR9fX1dfQ__&Signature=JAiIzgV07TEU-WDtBcUkBKBtY1e3a5dsjD0SyVJaS5eUWVVRIvwjIyxYe%7E-UWyYRr%7EtDgXvvakbscwSB5wkcUU8fFL6m3Iqq4tmRdB%7EM1UzM0GutfTppanXNjqzY5J-uPHLMWd0kmSdF9ABhCRZNF9E1ByQAPk31EOTjG7ljPJ7DPIVgeUHCOXWrOQxaeotpG6epLykuXmuW8KANIrsJuO8l77uLiqsVsQbIWm9DaU4cDCDze8ztq6HUuVRccxFTe6kpJ7ViCd1PCaCgMdHF-3itdbzZIaX5aILa6fo0Xns1BhaVXw6fl8414oDZz5qhxyKhCXvVN9wy2l42NRBV-g__&Key-Pair-Id=KVTP0A1DKRTAX\n",
            "Resolving cdn-lfs.huggingface.co (cdn-lfs.huggingface.co)... 13.227.254.33, 13.227.254.47, 13.227.254.123, ...\n",
            "Connecting to cdn-lfs.huggingface.co (cdn-lfs.huggingface.co)|13.227.254.33|:443... connected.\n",
            "HTTP request sent, awaiting response... 200 OK\n",
            "Length: 151116540 (144M) [binary/octet-stream]\n",
            "Saving to: ‘koreanDollLikeness_v10.safetensors’\n",
            "\n",
            "koreanDollLikeness_ 100%[===================>] 144.12M  65.1MB/s    in 2.2s    \n",
            "\n",
            "2023-03-10 04:39:01 (65.1 MB/s) - ‘koreanDollLikeness_v10.safetensors’ saved [151116540/151116540]\n",
            "\n"
          ]
        }
      ]
    },
    {
      "cell_type": "markdown",
      "metadata": {
        "id": "3JkrcrPBza-M"
      },
      "source": [
        "## 3 - Advanced Configuration"
      ]
    },
    {
      "cell_type": "code",
      "execution_count": 16,
      "metadata": {
        "id": "goUvyTZ4zd4l",
        "cellView": "form"
      },
      "outputs": [],
      "source": [
        "# @title 3.1 Commandline Args.\n",
        "import os\n",
        "\n",
        "os.environ[\"COMMANDLINE_ARGS\"] = \"--no-half-vae --xformers --share --gradio-queue --hide-ui-dir-config --enable-insecure-extension-access --theme dark\""
      ]
    },
    {
      "cell_type": "code",
      "source": [
        "# @title 3.2 Extensions\n",
        "tag_complete = True # @param {type:\"boolean\"}\n",
        "image_browser = True # @param {type:\"boolean\"}\n",
        "control_net = False # @param {type:\"boolean\"}\n",
        "openpose_editor = False # @param {type:\"boolean\"}\n",
        "extension_urls = \"\"  # @param {type:\"string\"}\n",
        "# @markdown ---\n",
        "# @markdown - tag_complete provided \"Danbooru tag\" recommandation\n",
        "# @markdown - image_browser will provide picture preview\n",
        "# @markdown - control_net provide pose control\n",
        "# @markdown - openpose_editor will able to build the pose with openpose method\n",
        "# @markdown - Seperate the url with \",\" if you need to import more extension for use<br>\n",
        "\n",
        "extensions = []\n",
        "extension_urls = list(map(str.strip, extension_urls.split(\",\")))\n",
        "if tag_complete == True:\n",
        "    extensions.append(\"https://github.com/DominikDoom/a1111-sd-webui-tagcomplete\")\n",
        "if image_browser == True:\n",
        "    extensions.append(\"https://github.com/AlUlkesh/stable-diffusion-webui-images-browser\")\n",
        "if control_net == True:\n",
        "    extensions.append(\"https://github.com/Mikubill/sd-webui-controlnet\")\n",
        "if openpose_editor == True:\n",
        "    extensions.append(\"https://github.com/fkunn1326/openpose-editor\")\n",
        "if extension_urls != ['']:\n",
        "    extensions = extensions + extension_urls\n",
        "\n",
        "import os\n",
        "\n",
        "if extensions != []:\n",
        "    %cd /content/stable-diffusion-webui/extensions\n",
        "    for extension in extensions:\n",
        "        if extension.startswith(\"#\"):\n",
        "            continue\n",
        "        ! git clone {extension}\n",
        "        extension_name, _ = os.path.splitext(extension.split(\"/\")[-1])\n",
        "        if not os.path.isdir(extension_name):\n",
        "            ! git clone {extension}\n",
        "        else:\n",
        "            ! cd {extension_name} && git fetch"
      ],
      "metadata": {
        "id": "iCsrBrA_9US3",
        "cellView": "form",
        "colab": {
          "base_uri": "https://localhost:8080/"
        },
        "outputId": "9c49852b-6204-4075-91fa-c087e4e8cdc7"
      },
      "execution_count": 17,
      "outputs": [
        {
          "output_type": "stream",
          "name": "stdout",
          "text": [
            "/content/stable-diffusion-webui/extensions\n",
            "Cloning into 'a1111-sd-webui-tagcomplete'...\n",
            "remote: Enumerating objects: 991, done.\u001b[K\n",
            "remote: Counting objects: 100% (282/282), done.\u001b[K\n",
            "remote: Compressing objects: 100% (114/114), done.\u001b[K\n",
            "remote: Total 991 (delta 181), reused 246 (delta 167), pack-reused 709\u001b[K\n",
            "Receiving objects: 100% (991/991), 4.76 MiB | 4.44 MiB/s, done.\n",
            "Resolving deltas: 100% (525/525), done.\n",
            "Cloning into 'stable-diffusion-webui-images-browser'...\n",
            "remote: Enumerating objects: 647, done.\u001b[K\n",
            "remote: Counting objects: 100% (210/210), done.\u001b[K\n",
            "remote: Compressing objects: 100% (91/91), done.\u001b[K\n",
            "remote: Total 647 (delta 127), reused 173 (delta 109), pack-reused 437\u001b[K\n",
            "Receiving objects: 100% (647/647), 171.64 KiB | 12.26 MiB/s, done.\n",
            "Resolving deltas: 100% (291/291), done.\n"
          ]
        }
      ]
    },
    {
      "cell_type": "code",
      "source": [
        "# @title 3.3 ControlNet model import\n",
        "control_canny = False # @param {type:\"boolean\"}\n",
        "control_depth = False # @param {type:\"boolean\"}\n",
        "control_hed = False # @param {type:\"boolean\"}\n",
        "control_mlsd = False # @param {type:\"boolean\"}\n",
        "control_normal = False # @param {type:\"boolean\"}\n",
        "control_openpose = True # @param {type:\"boolean\"}\n",
        "control_scribble = False # @param {type:\"boolean\"}\n",
        "control_seg = False # @param {type:\"boolean\"}\n",
        "t2iadapter_keypose = False # @param {type:\"boolean\"}\n",
        "t2iadapter_seg = False # @param {type:\"boolean\"}\n",
        "t2iadapter_sketch = False # @param {type:\"boolean\"}\n",
        "# @markdown ---\n",
        "# @markdown - Reference :\n",
        "# @markdown  - [Stable diffusion ControlNet使用心得](https://home.gamer.com.tw/artwork.php?sn=5662905)(Chinese)\n",
        "# @markdown  - [姿勢生成網站](https://avatarposemaker.deezein.com/)(Chinese)\n",
        "# @markdown  - https://github.com/lllyasviel/ControlNet\n",
        "# @markdown  - https://github.com/Mikubill/sd-webui-controlnet\n",
        "import os\n",
        "\n",
        "control_net_models = []\n",
        "if control_canny == True:\n",
        "    control_net_models.append(\"control_canny\")\n",
        "if control_depth == True:\n",
        "    control_net_models.append(\"control_depth\")\n",
        "if control_hed == True:\n",
        "    control_net_models.append(\"control_hed\")\n",
        "if control_mlsd == True:\n",
        "    control_net_models.append(\"control_mlsd\")\n",
        "if control_normal == True:\n",
        "    control_net_models.append(\"control_normal\")\n",
        "if control_openpose == True:\n",
        "    control_net_models.append(\"control_openpose\")\n",
        "if control_scribble == True:\n",
        "    control_net_models.append(\"control_scribble\")\n",
        "if control_seg == True:\n",
        "    control_net_models.append(\"control_seg\")\n",
        "if t2iadapter_keypose == True:\n",
        "    control_net_models.append(\"t2iadapter_keypose\")\n",
        "if t2iadapter_seg == True:\n",
        "    control_net_models.append(\"t2iadapter_seg\")\n",
        "if t2iadapter_sketch == True:\n",
        "    control_net_models.append(\"t2iadapter_sketch\")\n",
        "\n",
        "%cd /content/stable-diffusion-webui/extensions\n",
        "\n",
        "if os.path.exists('sd-webui-controlnet'):\n",
        "    %cd sd-webui-controlnet/models\n",
        "    for control_net_model in control_net_models:\n",
        "        ! wget -nc --content-disposition https://huggingface.co/webui/ControlNet-modules-safetensors/resolve/main/{control_net_model}-fp16.safetensors"
      ],
      "metadata": {
        "id": "kKQcBysS2tQo",
        "cellView": "form"
      },
      "execution_count": null,
      "outputs": []
    },
    {
      "cell_type": "markdown",
      "metadata": {
        "id": "htQtwGXHTaob"
      },
      "source": [
        "## 4 - Build envoriment"
      ]
    },
    {
      "cell_type": "code",
      "execution_count": 18,
      "metadata": {
        "id": "Ao2t5h5qG9HD",
        "colab": {
          "base_uri": "https://localhost:8080/"
        },
        "outputId": "47dbed61-8c97-4834-ea40-30b5deb16cd7"
      },
      "outputs": [
        {
          "output_type": "stream",
          "name": "stdout",
          "text": [
            "/content\n",
            "  % Total    % Received % Xferd  Average Speed   Time    Time     Time  Current\n",
            "                                 Dload  Upload   Total   Spent    Left  Speed\n",
            "100 70.9M  100 70.9M    0     0   347M      0 --:--:-- --:--:-- --:--:--  347M\n",
            "PREFIX=/opt/conda\n",
            "Unpacking payload ...\n",
            "                                                                                                     \n",
            "Installing base environment...\n",
            "\n",
            "\n",
            "Downloading and Extracting Packages\n",
            "\n",
            "\n",
            "Downloading and Extracting Packages\n",
            "\n",
            "Preparing transaction: - \b\b\\ \b\b| \b\b/ \b\bdone\n",
            "Executing transaction: \\ \b\b| \b\b/ \b\b- \b\b\\ \b\b| \b\b/ \b\b- \b\b\\ \b\b| \b\b/ \b\b- \b\b\\ \b\b| \b\b/ \b\b- \b\b\\ \b\bdone\n",
            "installation finished.\n",
            "WARNING:\n",
            "    You currently have a PYTHONPATH environment variable set. This may cause\n",
            "    unexpected behavior when running the Python interpreter in Miniconda3.\n",
            "    For best results, please verify that your PYTHONPATH only points to\n",
            "    directories of packages that are compatible with the Python interpreter\n",
            "    in Miniconda3: /opt/conda\n",
            "Looking in indexes: https://pypi.org/simple, https://us-python.pkg.dev/colab-wheels/public/simple/\n",
            "Collecting tensorrt\n",
            "  Downloading tensorrt-8.5.3.1-cp310-none-manylinux_2_17_x86_64.whl (549.5 MB)\n",
            "\u001b[2K     \u001b[90m━━━━━━━━━━━━━━━━━━━━━━━━━━━━━━━━━━━━━━━\u001b[0m \u001b[32m549.5/549.5 MB\u001b[0m \u001b[31m3.2 MB/s\u001b[0m eta \u001b[36m0:00:00\u001b[0m\n",
            "\u001b[?25hCollecting triton\n",
            "  Downloading triton-2.0.0-cp310-cp310-manylinux_2_17_x86_64.manylinux2014_x86_64.whl (63.3 MB)\n",
            "\u001b[2K     \u001b[90m━━━━━━━━━━━━━━━━━━━━━━━━━━━━━━━━━━━━━━━━\u001b[0m \u001b[32m63.3/63.3 MB\u001b[0m \u001b[31m12.2 MB/s\u001b[0m eta \u001b[36m0:00:00\u001b[0m\n",
            "\u001b[?25hCollecting nvidia-cuda-runtime-cu11\n",
            "  Downloading nvidia_cuda_runtime_cu11-11.8.89-py3-none-manylinux1_x86_64.whl (875 kB)\n",
            "\u001b[2K     \u001b[90m━━━━━━━━━━━━━━━━━━━━━━━━━━━━━━━━━━━━━━\u001b[0m \u001b[32m875.6/875.6 kB\u001b[0m \u001b[31m66.1 MB/s\u001b[0m eta \u001b[36m0:00:00\u001b[0m\n",
            "\u001b[?25hCollecting nvidia-cublas-cu11\n",
            "  Downloading nvidia_cublas_cu11-11.11.3.6-py3-none-manylinux1_x86_64.whl (417.9 MB)\n",
            "\u001b[2K     \u001b[90m━━━━━━━━━━━━━━━━━━━━━━━━━━━━━━━━━━━━━━━\u001b[0m \u001b[32m417.9/417.9 MB\u001b[0m \u001b[31m3.5 MB/s\u001b[0m eta \u001b[36m0:00:00\u001b[0m\n",
            "\u001b[?25hCollecting nvidia-cudnn-cu11\n",
            "  Downloading nvidia_cudnn_cu11-8.8.1.3-py3-none-manylinux1_x86_64.whl (720.3 MB)\n",
            "\u001b[2K     \u001b[90m━━━━━━━━━━━━━━━━━━━━━━━━━━━━━━━━━━━━━━━\u001b[0m \u001b[32m720.3/720.3 MB\u001b[0m \u001b[31m2.4 MB/s\u001b[0m eta \u001b[36m0:00:00\u001b[0m\n",
            "\u001b[?25hCollecting torch\n",
            "  Downloading torch-1.13.1-cp310-cp310-manylinux1_x86_64.whl (887.5 MB)\n",
            "\u001b[2K     \u001b[90m━━━━━━━━━━━━━━━━━━━━━━━━━━━━━━━━━━━━━━━\u001b[0m \u001b[32m887.5/887.5 MB\u001b[0m \u001b[31m1.7 MB/s\u001b[0m eta \u001b[36m0:00:00\u001b[0m\n",
            "\u001b[?25hCollecting filelock\n",
            "  Downloading filelock-3.9.0-py3-none-any.whl (9.7 kB)\n",
            "Collecting cmake\n",
            "  Downloading cmake-3.25.2-py2.py3-none-manylinux_2_17_x86_64.manylinux2014_x86_64.whl (23.7 MB)\n",
            "\u001b[2K     \u001b[90m━━━━━━━━━━━━━━━━━━━━━━━━━━━━━━━━━━━━━━━━\u001b[0m \u001b[32m23.7/23.7 MB\u001b[0m \u001b[31m66.6 MB/s\u001b[0m eta \u001b[36m0:00:00\u001b[0m\n",
            "\u001b[?25hCollecting lit\n",
            "  Downloading lit-15.0.7.tar.gz (132 kB)\n",
            "\u001b[2K     \u001b[90m━━━━━━━━━━━━━━━━━━━━━━━━━━━━━━━━━━━━━━\u001b[0m \u001b[32m132.3/132.3 kB\u001b[0m \u001b[31m19.0 MB/s\u001b[0m eta \u001b[36m0:00:00\u001b[0m\n",
            "\u001b[?25h  Preparing metadata (setup.py) ... \u001b[?25l\u001b[?25hdone\n",
            "Collecting typing-extensions\n",
            "  Downloading typing_extensions-4.5.0-py3-none-any.whl (27 kB)\n",
            "Collecting nvidia-cublas-cu11\n",
            "  Downloading nvidia_cublas_cu11-11.10.3.66-py3-none-manylinux1_x86_64.whl (317.1 MB)\n",
            "\u001b[2K     \u001b[90m━━━━━━━━━━━━━━━━━━━━━━━━━━━━━━━━━━━━━━━\u001b[0m \u001b[32m317.1/317.1 MB\u001b[0m \u001b[31m4.6 MB/s\u001b[0m eta \u001b[36m0:00:00\u001b[0m\n",
            "\u001b[?25hCollecting nvidia-cuda-runtime-cu11\n",
            "  Downloading nvidia_cuda_runtime_cu11-11.7.99-py3-none-manylinux1_x86_64.whl (849 kB)\n",
            "\u001b[2K     \u001b[90m━━━━━━━━━━━━━━━━━━━━━━━━━━━━━━━━━━━━━━\u001b[0m \u001b[32m849.3/849.3 kB\u001b[0m \u001b[31m52.4 MB/s\u001b[0m eta \u001b[36m0:00:00\u001b[0m\n",
            "\u001b[?25hCollecting nvidia-cuda-nvrtc-cu11==11.7.99\n",
            "  Downloading nvidia_cuda_nvrtc_cu11-11.7.99-2-py3-none-manylinux1_x86_64.whl (21.0 MB)\n",
            "\u001b[2K     \u001b[90m━━━━━━━━━━━━━━━━━━━━━━━━━━━━━━━━━━━━━━━━\u001b[0m \u001b[32m21.0/21.0 MB\u001b[0m \u001b[31m55.7 MB/s\u001b[0m eta \u001b[36m0:00:00\u001b[0m\n",
            "\u001b[?25hCollecting nvidia-cudnn-cu11\n",
            "  Downloading nvidia_cudnn_cu11-8.5.0.96-2-py3-none-manylinux1_x86_64.whl (557.1 MB)\n",
            "\u001b[2K     \u001b[90m━━━━━━━━━━━━━━━━━━━━━━━━━━━━━━━━━━━━━━━\u001b[0m \u001b[32m557.1/557.1 MB\u001b[0m \u001b[31m2.9 MB/s\u001b[0m eta \u001b[36m0:00:00\u001b[0m\n",
            "\u001b[?25hRequirement already satisfied: wheel in /opt/conda/lib/python3.10/site-packages (from nvidia-cublas-cu11->tensorrt) (0.37.1)\n",
            "Requirement already satisfied: setuptools in /opt/conda/lib/python3.10/site-packages (from nvidia-cublas-cu11->tensorrt) (65.6.3)\n",
            "Building wheels for collected packages: lit\n",
            "  Building wheel for lit (setup.py) ... \u001b[?25l\u001b[?25hdone\n",
            "  Created wheel for lit: filename=lit-15.0.7-py3-none-any.whl size=89990 sha256=4cc29d4c5a27b1840ac4436e0718326a2a6ad2564fe1224568c7b2da5b401fed\n",
            "  Stored in directory: /root/.cache/pip/wheels/e8/4e/e1/87180511b908efbedec6b10f63b09352243bbdd8c235a7070b\n",
            "Successfully built lit\n",
            "Installing collected packages: lit, cmake, typing-extensions, nvidia-cuda-runtime-cu11, nvidia-cuda-nvrtc-cu11, nvidia-cublas-cu11, filelock, nvidia-cudnn-cu11, torch, tensorrt, triton\n",
            "Successfully installed cmake-3.25.2 filelock-3.9.0 lit-15.0.7 nvidia-cublas-cu11-11.10.3.66 nvidia-cuda-nvrtc-cu11-11.7.99 nvidia-cuda-runtime-cu11-11.7.99 nvidia-cudnn-cu11-8.5.0.96 tensorrt-8.5.3.1 torch-1.13.1 triton-2.0.0 typing-extensions-4.5.0\n",
            "\u001b[33mWARNING: Running pip as the 'root' user can result in broken permissions and conflicting behaviour with the system package manager. It is recommended to use a virtual environment instead: https://pip.pypa.io/warnings/venv\u001b[0m\u001b[33m\n",
            "\u001b[0mPython 3.10.9 (main, Jan 11 2023, 15:21:40) [GCC 11.2.0]\n",
            "Commit hash: 0cc0ee1bcb4c24a8c9715f66cede06601bfc00c8\n",
            "Installing torch and torchvision\n",
            "Looking in indexes: https://pypi.org/simple, https://us-python.pkg.dev/colab-wheels/public/simple/, https://download.pytorch.org/whl/cu117\n",
            "Collecting torch==1.13.1+cu117\n",
            "  Downloading https://download.pytorch.org/whl/cu117/torch-1.13.1%2Bcu117-cp310-cp310-linux_x86_64.whl (1801.8 MB)\n",
            "\u001b[2K     \u001b[90m━━━━━━━━━━━━━━━━━━━━━━━━━━━━━━━━━━━━━━━━\u001b[0m \u001b[32m1.8/1.8 GB\u001b[0m \u001b[31m879.5 kB/s\u001b[0m eta \u001b[36m0:00:00\u001b[0m\n",
            "\u001b[?25hCollecting torchvision==0.14.1+cu117\n",
            "  Downloading https://download.pytorch.org/whl/cu117/torchvision-0.14.1%2Bcu117-cp310-cp310-linux_x86_64.whl (24.3 MB)\n",
            "\u001b[2K     \u001b[90m━━━━━━━━━━━━━━━━━━━━━━━━━━━━━━━━━━━━━━━━\u001b[0m \u001b[32m24.3/24.3 MB\u001b[0m \u001b[31m42.5 MB/s\u001b[0m eta \u001b[36m0:00:00\u001b[0m\n",
            "\u001b[?25hRequirement already satisfied: typing-extensions in /opt/conda/lib/python3.10/site-packages (from torch==1.13.1+cu117) (4.5.0)\n",
            "Collecting pillow!=8.3.*,>=5.3.0\n",
            "  Downloading Pillow-9.4.0-cp310-cp310-manylinux_2_28_x86_64.whl (3.4 MB)\n",
            "\u001b[2K     \u001b[90m━━━━━━━━━━━━━━━━━━━━━━━━━━━━━━━━━━━━━━━━\u001b[0m \u001b[32m3.4/3.4 MB\u001b[0m \u001b[31m57.2 MB/s\u001b[0m eta \u001b[36m0:00:00\u001b[0m\n",
            "\u001b[?25hCollecting numpy\n",
            "  Downloading numpy-1.24.2-cp310-cp310-manylinux_2_17_x86_64.manylinux2014_x86_64.whl (17.3 MB)\n",
            "\u001b[2K     \u001b[90m━━━━━━━━━━━━━━━━━━━━━━━━━━━━━━━━━━━━━━━━\u001b[0m \u001b[32m17.3/17.3 MB\u001b[0m \u001b[31m82.5 MB/s\u001b[0m eta \u001b[36m0:00:00\u001b[0m\n",
            "\u001b[?25hRequirement already satisfied: requests in /opt/conda/lib/python3.10/site-packages (from torchvision==0.14.1+cu117) (2.28.1)\n",
            "Requirement already satisfied: urllib3<1.27,>=1.21.1 in /opt/conda/lib/python3.10/site-packages (from requests->torchvision==0.14.1+cu117) (1.26.14)\n",
            "Requirement already satisfied: idna<4,>=2.5 in /opt/conda/lib/python3.10/site-packages (from requests->torchvision==0.14.1+cu117) (3.4)\n",
            "Requirement already satisfied: charset-normalizer<3,>=2 in /opt/conda/lib/python3.10/site-packages (from requests->torchvision==0.14.1+cu117) (2.0.4)\n",
            "Requirement already satisfied: certifi>=2017.4.17 in /opt/conda/lib/python3.10/site-packages (from requests->torchvision==0.14.1+cu117) (2022.12.7)\n",
            "Installing collected packages: torch, pillow, numpy, torchvision\n",
            "  Attempting uninstall: torch\n",
            "    Found existing installation: torch 1.13.1\n",
            "    Uninstalling torch-1.13.1:\n",
            "      Successfully uninstalled torch-1.13.1\n",
            "Successfully installed numpy-1.24.2 pillow-9.4.0 torch-1.13.1+cu117 torchvision-0.14.1+cu117\n",
            "\u001b[33mWARNING: Running pip as the 'root' user can result in broken permissions and conflicting behaviour with the system package manager. It is recommended to use a virtual environment instead: https://pip.pypa.io/warnings/venv\u001b[0m\u001b[33m\n",
            "\u001b[0mInstalling gfpgan\n",
            "Installing clip\n",
            "Installing open_clip\n",
            "Installing xformers\n",
            "Cloning Stable Diffusion into repositories/stable-diffusion-stability-ai...\n",
            "Cloning Taming Transformers into repositories/taming-transformers...\n",
            "Cloning K-diffusion into repositories/k-diffusion...\n",
            "Cloning CodeFormer into repositories/CodeFormer...\n",
            "Cloning BLIP into repositories/BLIP...\n",
            "Installing requirements for CodeFormer\n",
            "Installing requirements for Web UI\n",
            "Installing requirement for images-browser\n",
            "\n",
            "Looking in indexes: https://pypi.org/simple, https://us-python.pkg.dev/colab-wheels/public/simple/\n",
            "Requirement already satisfied: fastapi==0.90.1 in /opt/conda/lib/python3.10/site-packages (0.90.1)\n",
            "Requirement already satisfied: starlette<0.24.0,>=0.22.0 in /opt/conda/lib/python3.10/site-packages (from fastapi==0.90.1) (0.23.1)\n",
            "Requirement already satisfied: pydantic!=1.7,!=1.7.1,!=1.7.2,!=1.7.3,!=1.8,!=1.8.1,<2.0.0,>=1.6.2 in /opt/conda/lib/python3.10/site-packages (from fastapi==0.90.1) (1.10.6)\n",
            "Requirement already satisfied: typing-extensions>=4.2.0 in /opt/conda/lib/python3.10/site-packages (from pydantic!=1.7,!=1.7.1,!=1.7.2,!=1.7.3,!=1.8,!=1.8.1,<2.0.0,>=1.6.2->fastapi==0.90.1) (4.5.0)\n",
            "Requirement already satisfied: anyio<5,>=3.4.0 in /opt/conda/lib/python3.10/site-packages (from starlette<0.24.0,>=0.22.0->fastapi==0.90.1) (3.6.2)\n",
            "Requirement already satisfied: idna>=2.8 in /opt/conda/lib/python3.10/site-packages (from anyio<5,>=3.4.0->starlette<0.24.0,>=0.22.0->fastapi==0.90.1) (2.10)\n",
            "Requirement already satisfied: sniffio>=1.1 in /opt/conda/lib/python3.10/site-packages (from anyio<5,>=3.4.0->starlette<0.24.0,>=0.22.0->fastapi==0.90.1) (1.3.0)\n",
            "\u001b[33mWARNING: Running pip as the 'root' user can result in broken permissions and conflicting behaviour with the system package manager. It is recommended to use a virtual environment instead: https://pip.pypa.io/warnings/venv\u001b[0m\u001b[33m\n",
            "\u001b[0m  % Total    % Received % Xferd  Average Speed   Time    Time     Time  Current\n",
            "                                 Dload  Upload   Total   Spent    Left  Speed\n",
            "100   512  100   512    0     0   2813      0 --:--:-- --:--:-- --:--:--  2828\n"
          ]
        }
      ],
      "source": [
        "%cd /content\n",
        "\n",
        "conda_dir = \"/opt/conda\"\n",
        "conda_bin = os.path.join(conda_dir, \"bin\", \"conda\")\n",
        "\n",
        "if not os.path.exists(conda_bin):\n",
        "    ! curl -O https://repo.anaconda.com/miniconda/Miniconda3-latest-Linux-x86_64.sh\n",
        "    ! chmod +x Miniconda3-latest-Linux-x86_64.sh\n",
        "    ! bash ./Miniconda3-latest-Linux-x86_64.sh -b -f -p {conda_dir}\n",
        "    ! rm Miniconda3-latest-Linux-x86_64.sh\n",
        "\n",
        "\n",
        "install_script = f\"\"\"\n",
        "eval \"$({conda_bin} shell.bash hook)\"\n",
        "cd stable-diffusion-webui\n",
        "python3 -m pip install --upgrade tensorrt triton\n",
        "python -c 'from launch import prepare_environment; prepare_environment()'\n",
        "pip install --upgrade fastapi==0.90.1\n",
        "\"\"\"\n",
        "\n",
        "! {install_script}\n",
        "\n",
        "patches_dir = \"/content/patches\"\n",
        "os.makedirs(patches_dir, exist_ok=True)\n",
        "! cd {patches_dir} && curl -LO https://raw.githubusercontent.com/ddPn08/automatic1111-colab/main/patches/stablediffusion-lowram.patch\n",
        "! cd /content/stable-diffusion-webui/repositories/stable-diffusion-stability-ai && git apply {patches_dir}/stablediffusion-lowram.patch\n",
        "\n",
        "os.environ[\n",
        "    \"LD_LIBRARY_PATH\"\n",
        "] = f\"{os.environ['LD_LIBRARY_PATH']}:/usr/local/envs/automatic/lib\"\n",
        "\n",
        "if os.path.exists(f\"{data_dir}/script.post.sh\"):\n",
        "    ! chmod +x {data_dir}/script.post.sh\n",
        "    ! {data_dir}/script.post.sh"
      ]
    },
    {
      "cell_type": "markdown",
      "source": [
        "## 5 - Startup WebUI"
      ],
      "metadata": {
        "id": "UJ0vs3qiRrzE"
      }
    },
    {
      "cell_type": "code",
      "execution_count": null,
      "metadata": {
        "id": "Y4ebYsPqTrGb",
        "cellView": "form"
      },
      "outputs": [],
      "source": [
        "# @markdown - Open the WebUI by click on the public URL<br>\n",
        "# @markdown ![](https://i.imgur.com/y3xGiIX.png)\n",
        "\n",
        "%cd /content/stable-diffusion-webui/\n",
        "! git pull\n",
        "\n",
        "run_script = f\"\"\"\n",
        "eval \"$({conda_bin} shell.bash hook)\"\n",
        "accelerate launch --num_cpu_threads_per_process 1 launch.py\n",
        "\"\"\"\n",
        "! {run_script}"
      ]
    },
    {
      "cell_type": "markdown",
      "source": [
        "## 6 - Save the styles.csv"
      ],
      "metadata": {
        "id": "PA5lgQ3VWS14"
      }
    },
    {
      "cell_type": "code",
      "source": [
        "! cp /content/stable-diffusion-webui/styles.csv {config_path}/styles.csv\n",
        "! cp /content/stable-diffusion-webui/styles.csv.bak {config_path}/styles.csv.bak"
      ],
      "metadata": {
        "id": "2DKey1KUXoSr"
      },
      "execution_count": null,
      "outputs": []
    }
  ]
}